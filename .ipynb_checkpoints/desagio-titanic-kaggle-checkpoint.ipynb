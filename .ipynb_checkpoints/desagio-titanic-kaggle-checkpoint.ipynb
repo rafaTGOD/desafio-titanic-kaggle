{
 "cells": [
  {
   "cell_type": "code",
   "execution_count": null,
   "id": "347dca57-0ca5-4ee2-a119-a148b997957e",
   "metadata": {},
   "outputs": [],
   "source": [
    "# Importando bibliotecas\n",
    "\n",
    "import pandas as pd\n",
    "from sklearn.model_selection import train_test_split\n",
    "from sklearn.preprocessing import LabelEncoder\n",
    "from sklearn.preprocessing import OneHotEncoder\n",
    "from sklearn.metrics import accuracy_score, confusion_matrix\n",
    "from sklearn.ensemble import RandomForestClassifier\n",
    "from sklearn.preprocessing import StandardScaler\n",
    "import matplotlib.pyplot as plt "
   ]
  },
  {
   "cell_type": "code",
   "execution_count": null,
   "id": "8f7652fb-d91f-4267-a7bc-11eb071b55e5",
   "metadata": {},
   "outputs": [],
   "source": [
    "# Carregando e visualizando os dados de treinamento\n",
    "data = pd.read_csv('train.csv')\n",
    "data\n"
   ]
  },
  {
   "cell_type": "code",
   "execution_count": null,
   "id": "a4c64f31-3163-417b-b17a-8607014fd0d3",
   "metadata": {},
   "outputs": [],
   "source": [
    "# Checando e tratando nulos\n",
    "\n",
    "colunas_com_nulos = data.columns[data.isnull().any()].tolist()\n",
    "print(f'As seguintes colunas possuem valores nulos: {colunas_com_nulos}')\n",
    "\n",
    "for nulos in colunas_com_nulos:\n",
    "    print(f\"Número de valores nulos na coluna {nulos}: {data[nulos].isnull().sum()}\")\n",
    "\n",
    "\n",
    "media_idade = data['Age'].mean()\n",
    "data['Age'] = data['Age'].fillna(media_idade) # substituindo os valores da coluna idade pela média\n",
    "data['Age'] = data['Age'].astype(int)\n",
    "clean_data = data.dropna(subset=['Embarked']) # dropando os nulos \n",
    "clean_data \n"
   ]
  },
  {
   "cell_type": "code",
   "execution_count": null,
   "id": "2a6fc73d-483e-43b5-9876-720586203a15",
   "metadata": {},
   "outputs": [],
   "source": []
  }
 ],
 "metadata": {
  "kernelspec": {
   "display_name": "Python 3 (ipykernel)",
   "language": "python",
   "name": "python3"
  },
  "language_info": {
   "codemirror_mode": {
    "name": "ipython",
    "version": 3
   },
   "file_extension": ".py",
   "mimetype": "text/x-python",
   "name": "python",
   "nbconvert_exporter": "python",
   "pygments_lexer": "ipython3",
   "version": "3.11.5"
  }
 },
 "nbformat": 4,
 "nbformat_minor": 5
}
