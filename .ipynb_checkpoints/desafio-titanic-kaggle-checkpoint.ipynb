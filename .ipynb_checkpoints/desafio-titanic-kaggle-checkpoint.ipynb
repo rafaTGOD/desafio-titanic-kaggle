{
 "cells": [
  {
   "cell_type": "code",
   "execution_count": null,
   "id": "347dca57-0ca5-4ee2-a119-a148b997957e",
   "metadata": {},
   "outputs": [],
   "source": [
    "# Importando bibliotecas\n",
    "\n",
    "import pandas as pd\n",
    "from sklearn.model_selection import train_test_split\n",
    "from sklearn.preprocessing import LabelEncoder\n",
    "from sklearn.preprocessing import OneHotEncoder\n",
    "from sklearn.metrics import accuracy_score, confusion_matrix\n",
    "from sklearn.ensemble import RandomForestClassifier\n",
    "from sklearn.preprocessing import StandardScaler\n",
    "import matplotlib.pyplot as plt "
   ]
  },
  {
   "cell_type": "code",
   "execution_count": null,
   "id": "8f7652fb-d91f-4267-a7bc-11eb071b55e5",
   "metadata": {},
   "outputs": [],
   "source": [
    "# Carregando e visualizando os dados de treinamento\n",
    "data = pd.read_csv('train.csv')\n",
    "data\n"
   ]
  },
  {
   "cell_type": "code",
   "execution_count": null,
   "id": "a4c64f31-3163-417b-b17a-8607014fd0d3",
   "metadata": {},
   "outputs": [],
   "source": [
    "# Checando e tratando nulos\n",
    "\n",
    "colunas_com_nulos = data.columns[data.isnull().any()].tolist()\n",
    "print(f'As seguintes colunas possuem valores nulos: {colunas_com_nulos}')\n",
    "\n",
    "for nulos in colunas_com_nulos:\n",
    "    print(f\"Número de valores nulos na coluna {nulos}: {data[nulos].isnull().sum()}\")\n",
    "\n",
    "\n",
    "media_idade = data['Age'].mean()\n",
    "data['Age'] = data['Age'].fillna(media_idade) # substituindo os valores da coluna idade pela média\n",
    "data['Age'] = data['Age'].astype(int)\n",
    "clean_data = data.dropna(subset=['Embarked']) # dropando os nulos \n",
    "clean_data \n"
   ]
  },
  {
   "cell_type": "code",
   "execution_count": 8,
   "id": "2a6fc73d-483e-43b5-9876-720586203a15",
   "metadata": {},
   "outputs": [
    {
     "data": {
      "text/plain": [
       "array([[3, 'male', 22, ..., 0, 7.25, 'S'],\n",
       "       [1, 'female', 38, ..., 0, 71.2833, 'C'],\n",
       "       [3, 'female', 26, ..., 0, 7.925, 'S'],\n",
       "       ...,\n",
       "       [3, 'female', 29, ..., 2, 23.45, 'S'],\n",
       "       [1, 'male', 26, ..., 0, 30.0, 'C'],\n",
       "       [3, 'male', 32, ..., 0, 7.75, 'Q']], dtype=object)"
      ]
     },
     "execution_count": 8,
     "metadata": {},
     "output_type": "execute_result"
    }
   ],
   "source": [
    "# Selecionando os atributos previsores e separando-os da classe\n",
    "previsores = clean_data.iloc[:, [2, 4, 5, 6, 7, 9, 11]].values\n",
    "classe = clean_data.iloc[:,1].values\n",
    "previsores"
   ]
  },
  {
   "cell_type": "code",
   "execution_count": 9,
   "id": "e1c34fac-7ba4-47ac-839a-ba59021d33b3",
   "metadata": {},
   "outputs": [
    {
     "data": {
      "text/plain": [
       "array([[3, 1, 22, ..., 0, 7.25, 2],\n",
       "       [1, 0, 38, ..., 0, 71.2833, 0],\n",
       "       [3, 0, 26, ..., 0, 7.925, 2],\n",
       "       ...,\n",
       "       [3, 0, 29, ..., 2, 23.45, 2],\n",
       "       [1, 1, 26, ..., 0, 30.0, 0],\n",
       "       [3, 1, 32, ..., 0, 7.75, 1]], dtype=object)"
      ]
     },
     "execution_count": 9,
     "metadata": {},
     "output_type": "execute_result"
    }
   ],
   "source": [
    "# Fazendo o Label Encoder das variáveis Sexo e Porto de Embarque\n",
    "labelencoder = LabelEncoder()\n",
    "previsores[:,1] = labelencoder.fit_transform(previsores[:,1])\n",
    "previsores[:,6] = labelencoder.fit_transform(previsores[:,6])\n",
    "previsores"
   ]
  },
  {
   "cell_type": "code",
   "execution_count": null,
   "id": "ab1a13fd-0cdd-4fc7-9cb3-adb849bb8d7c",
   "metadata": {},
   "outputs": [],
   "source": []
  }
 ],
 "metadata": {
  "kernelspec": {
   "display_name": "Python 3 (ipykernel)",
   "language": "python",
   "name": "python3"
  },
  "language_info": {
   "codemirror_mode": {
    "name": "ipython",
    "version": 3
   },
   "file_extension": ".py",
   "mimetype": "text/x-python",
   "name": "python",
   "nbconvert_exporter": "python",
   "pygments_lexer": "ipython3",
   "version": "3.11.5"
  }
 },
 "nbformat": 4,
 "nbformat_minor": 5
}
