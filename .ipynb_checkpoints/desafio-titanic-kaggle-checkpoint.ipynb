{
 "cells": [
  {
   "cell_type": "code",
   "execution_count": null,
   "id": "347dca57-0ca5-4ee2-a119-a148b997957e",
   "metadata": {},
   "outputs": [],
   "source": [
    "# Importando bibliotecas\n",
    "\n",
    "import pandas as pd\n",
    "from sklearn.model_selection import train_test_split\n",
    "from sklearn.preprocessing import LabelEncoder\n",
    "from sklearn.preprocessing import OneHotEncoder\n",
    "from sklearn.metrics import accuracy_score, confusion_matrix\n",
    "from sklearn.ensemble import RandomForestClassifier\n",
    "from sklearn.preprocessing import StandardScaler\n",
    "import matplotlib.pyplot as plt "
   ]
  },
  {
   "cell_type": "code",
   "execution_count": null,
   "id": "8f7652fb-d91f-4267-a7bc-11eb071b55e5",
   "metadata": {},
   "outputs": [],
   "source": [
    "# Carregando e visualizando os dados de treinamento\n",
    "data = pd.read_csv('train.csv')\n",
    "data\n"
   ]
  },
  {
   "cell_type": "code",
   "execution_count": null,
   "id": "a4c64f31-3163-417b-b17a-8607014fd0d3",
   "metadata": {},
   "outputs": [],
   "source": [
    "# Checando e tratando nulos\n",
    "\n",
    "colunas_com_nulos = data.columns[data.isnull().any()].tolist()\n",
    "print(f'As seguintes colunas possuem valores nulos: {colunas_com_nulos}')\n",
    "\n",
    "for nulos in colunas_com_nulos:\n",
    "    print(f\"Número de valores nulos na coluna {nulos}: {data[nulos].isnull().sum()}\")\n",
    "\n",
    "\n",
    "media_idade = data['Age'].mean()\n",
    "data['Age'] = data['Age'].fillna(media_idade) # substituindo os valores da coluna idade pela média\n",
    "data['Age'] = data['Age'].astype(int)\n",
    "clean_data = data.dropna(subset=['Embarked']) # dropando os nulos \n",
    "clean_data \n"
   ]
  },
  {
   "cell_type": "code",
   "execution_count": null,
   "id": "2a6fc73d-483e-43b5-9876-720586203a15",
   "metadata": {},
   "outputs": [],
   "source": [
    "# Selecionando os atributos previsores e separando-os da classe\n",
    "previsores = clean_data.iloc[:, [2, 4, 5, 6, 7, 9, 11]].values\n",
    "classe = clean_data.iloc[:,1].values\n",
    "previsores"
   ]
  },
  {
   "cell_type": "code",
   "execution_count": null,
   "id": "e1c34fac-7ba4-47ac-839a-ba59021d33b3",
   "metadata": {},
   "outputs": [],
   "source": [
    "# Fazendo o Label Encoder das variáveis Sexo e Porto de Embarque\n",
    "labelencoder = LabelEncoder()\n",
    "previsores[:,1] = labelencoder.fit_transform(previsores[:,1])\n",
    "previsores[:,6] = labelencoder.fit_transform(previsores[:,6])\n",
    "previsores"
   ]
  },
  {
   "cell_type": "code",
   "execution_count": null,
   "id": "85e8f0eb-8215-4bed-b755-25753ac9d263",
   "metadata": {},
   "outputs": [],
   "source": [
    "# Importação e tratamento dos dados de teste\n",
    "#importação dos dados\n",
    "test_data = pd.read_csv('test.csv')\n",
    "\n",
    "# verificação de nulos\n",
    "colunas_teste_com_nulos = test_data.columns[test_data.isnull().any()].tolist()\n",
    "print(f'As seguintes colunas possuem valores nulos: {colunas_teste_com_nulos}')\n",
    "\n",
    "for nulos in colunas_teste_com_nulos:\n",
    "    print(f\"Número de valores nulos na coluna {nulos}: {test_data[nulos].isnull().sum()}\")\n",
    "\n",
    "# Substituindo os valores NaN pela média da coluna\n",
    "media_idade = test_data['Age'].mean()\n",
    "media_fare = test_data['Fare'].mean()\n",
    "\n",
    "test_data['Age'] = test_data['Age'].fillna(media_idade)\n",
    "test_data['Fare'] = test_data['Fare'].fillna(media_fare)\n",
    "test_data['Age'] = test_data['Age'].astype(int)\n",
    "test_data"
   ]
  },
  {
   "cell_type": "code",
   "execution_count": null,
   "id": "9fc41467-dbbb-4b86-b885-bfe033831a48",
   "metadata": {},
   "outputs": [],
   "source": [
    "# Separando os dados de treino e teste \n",
    "X_test = test_data.iloc[:, [1, 3, 4, 5, 6, 8, 10]].values\n",
    "labelencoder = LabelEncoder()\n",
    "X_test[:,1] = labelencoder.fit_transform(X_test[:,1])\n",
    "X_test[:,6] = labelencoder.fit_transform(X_test[:,6])\n",
    "\n",
    "X_train = previsores\n",
    "y_train = classe\n",
    "X_test"
   ]
  },
  {
   "cell_type": "code",
   "execution_count": null,
   "id": "63e7caac-6ef4-45ce-8779-79016756264e",
   "metadata": {},
   "outputs": [],
   "source": [
    "# Treinando o modelo e fazendo predições\n",
    "\n",
    "floresta = RandomForestClassifier(n_estimators=100)\n",
    "modelo = floresta.fit(X_train, y_train)\n",
    "\n",
    "# Realizando as predições\n",
    "previsoes = floresta.predict(X_test)\n",
    "previsoes"
   ]
  },
  {
   "cell_type": "code",
   "execution_count": null,
   "id": "77500f65-3871-41e7-aa7d-76ca709495a2",
   "metadata": {},
   "outputs": [],
   "source": [
    "test_data['Survived'] = previsoes\n",
    "resultados_finais = test_data.iloc[:, [0,11]]\n",
    "resultados_finais.to_csv('TitanicFirstSubmission.csv', index=False)\n",
    "resultados_finais"
   ]
  },
  {
   "cell_type": "code",
   "execution_count": null,
   "id": "e4625a78-6d73-4efc-bb0b-a1c2e6575d0e",
   "metadata": {},
   "outputs": [],
   "source": []
  }
 ],
 "metadata": {
  "kernelspec": {
   "display_name": "Python 3 (ipykernel)",
   "language": "python",
   "name": "python3"
  },
  "language_info": {
   "codemirror_mode": {
    "name": "ipython",
    "version": 3
   },
   "file_extension": ".py",
   "mimetype": "text/x-python",
   "name": "python",
   "nbconvert_exporter": "python",
   "pygments_lexer": "ipython3",
   "version": "3.11.5"
  }
 },
 "nbformat": 4,
 "nbformat_minor": 5
}
